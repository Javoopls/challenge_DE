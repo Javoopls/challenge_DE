{
 "cells": [
  {
   "cell_type": "markdown",
   "metadata": {},
   "source": [
    "En este archivo puedes escribir lo que estimes conveniente. Te recomendamos detallar tu solución y todas las suposiciones que estás considerando. Aquí puedes ejecutar las funciones que definiste en los otros archivos de la carpeta src, medir el tiempo, memoria, etc."
   ]
  },
  {
   "cell_type": "code",
   "execution_count": 7,
   "metadata": {},
   "outputs": [],
   "source": [
    "import os\n",
    "file_path = \"C:/farmers-protest-tweets-2021-2-4.json\""
   ]
  },
  {
   "cell_type": "code",
   "execution_count": 8,
   "metadata": {},
   "outputs": [],
   "source": [
    "%run {os.path.join('C:\\\\Users\\\\Javoo\\\\Downloads\\\\challenge_DE\\\\src', 'q1_memory.py')}\n",
    "%run {os.path.join('C:\\\\Users\\\\Javoo\\\\Downloads\\\\challenge_DE\\\\src', 'q1_time.py')}"
   ]
  },
  {
   "cell_type": "code",
   "execution_count": 9,
   "metadata": {},
   "outputs": [
    {
     "name": "stdout",
     "output_type": "stream",
     "text": [
      "Filename: C:\\Users\\Javoo\\Downloads\\challenge_DE\\src\\q1_memory.py\n",
      "\n",
      "Line #    Mem usage    Increment  Occurrences   Line Contents\n",
      "=============================================================\n",
      "     6     76.5 MiB     76.5 MiB           1   @profile\n",
      "     7                                         def q1_memory(file_path):\n",
      "     8                                             # Crear un diccionario para almacenar el recuento de tweets por fecha\n",
      "     9     76.5 MiB      0.0 MiB           1       tweet_counts_by_date = defaultdict(int)\n",
      "    10                                         \n",
      "    11                                             # Crear un diccionario para almacenar el usuario con más publicaciones por fecha\n",
      "    12     80.7 MiB      0.0 MiB          27       top_users_by_date = defaultdict(lambda: defaultdict(int))\n",
      "    13                                         \n",
      "    14                                             # Leer el archivo JSON línea por línea\n",
      "    15     81.4 MiB      0.0 MiB           2       with open(file_path, 'r', encoding='utf-8') as file:\n",
      "    16     81.4 MiB      1.0 MiB      117408           for line in file:\n",
      "    17     81.4 MiB      3.1 MiB      117407               tweet = json.loads(line)\n",
      "    18     81.4 MiB      0.0 MiB      117407               tweet_date = datetime.strptime(tweet['date'], '%Y-%m-%dT%H:%M:%S+00:00').date()\n",
      "    19     81.4 MiB      0.0 MiB      117407               tweet_counts_by_date[tweet_date] += 1\n",
      "    20                                                     # Actualizar el usuario con más publicaciones para esta fecha si es necesario\n",
      "    21     81.4 MiB      0.0 MiB      117407               username = tweet['user']['username']\n",
      "    22     81.4 MiB      0.8 MiB      117407               top_users_by_date[tweet_date][username] += 1\n",
      "    23                                         \n",
      "    24                                             # Obtener las top 10 fechas y los usuarios con más publicaciones para cada una de ellas\n",
      "    25     81.4 MiB      0.0 MiB           1       top_10_dates_with_users = []\n",
      "    26     81.4 MiB      0.0 MiB          37       for date, _ in sorted(tweet_counts_by_date.items(), key=lambda x: x[1], reverse=True)[:10]:\n",
      "    27     81.4 MiB      0.0 MiB          10           top_users = top_users_by_date[date]\n",
      "    28     81.4 MiB      0.0 MiB          10           top_user = max(top_users, key=top_users.get)\n",
      "    29     81.4 MiB      0.0 MiB          10           top_10_dates_with_users.append((date, top_user))\n",
      "    30                                         \n",
      "    31     81.4 MiB      0.0 MiB           1       return top_10_dates_with_users\n",
      "\n",
      "\n"
     ]
    }
   ],
   "source": [
    "result = q1_memory(file_path)"
   ]
  },
  {
   "cell_type": "code",
   "execution_count": 10,
   "metadata": {},
   "outputs": [
    {
     "name": "stdout",
     "output_type": "stream",
     "text": [
      "[(datetime.date(2021, 2, 12), 'RanbirS00614606'), (datetime.date(2021, 2, 13), 'MaanDee08215437'), (datetime.date(2021, 2, 17), 'RaaJVinderkaur'), (datetime.date(2021, 2, 16), 'jot__b'), (datetime.date(2021, 2, 14), 'rebelpacifist'), (datetime.date(2021, 2, 18), 'neetuanjle_nitu'), (datetime.date(2021, 2, 15), 'jot__b'), (datetime.date(2021, 2, 20), 'MangalJ23056160'), (datetime.date(2021, 2, 23), 'Surrypuria'), (datetime.date(2021, 2, 19), 'Preetm91')]\n"
     ]
    }
   ],
   "source": [
    "print(result)"
   ]
  },
  {
   "cell_type": "code",
   "execution_count": 11,
   "metadata": {},
   "outputs": [],
   "source": [
    "result_q1time = q1_time(file_path)"
   ]
  },
  {
   "cell_type": "code",
   "execution_count": 12,
   "metadata": {},
   "outputs": [
    {
     "name": "stdout",
     "output_type": "stream",
     "text": [
      "[(datetime.date(2021, 2, 12), 'RanbirS00614606'), (datetime.date(2021, 2, 13), 'MaanDee08215437'), (datetime.date(2021, 2, 17), 'RaaJVinderkaur'), (datetime.date(2021, 2, 16), 'jot__b'), (datetime.date(2021, 2, 14), 'rebelpacifist'), (datetime.date(2021, 2, 18), 'neetuanjle_nitu'), (datetime.date(2021, 2, 15), 'jot__b'), (datetime.date(2021, 2, 20), 'MangalJ23056160'), (datetime.date(2021, 2, 23), 'Surrypuria'), (datetime.date(2021, 2, 19), 'Preetm91')]\n"
     ]
    }
   ],
   "source": [
    "print(result_q1time)"
   ]
  },
  {
   "cell_type": "code",
   "execution_count": null,
   "metadata": {},
   "outputs": [],
   "source": []
  }
 ],
 "metadata": {
  "kernelspec": {
   "display_name": "Python 3",
   "language": "python",
   "name": "python3"
  },
  "language_info": {
   "codemirror_mode": {
    "name": "ipython",
    "version": 3
   },
   "file_extension": ".py",
   "mimetype": "text/x-python",
   "name": "python",
   "nbconvert_exporter": "python",
   "pygments_lexer": "ipython3",
   "version": "3.11.5"
  },
  "orig_nbformat": 4
 },
 "nbformat": 4,
 "nbformat_minor": 2
}
