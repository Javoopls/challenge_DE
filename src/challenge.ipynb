{
 "cells": [
  {
   "cell_type": "markdown",
   "metadata": {},
   "source": [
    "En este archivo puedes escribir lo que estimes conveniente. Te recomendamos detallar tu solución y todas las suposiciones que estás considerando. Aquí puedes ejecutar las funciones que definiste en los otros archivos de la carpeta src, medir el tiempo, memoria, etc."
   ]
  },
  {
   "cell_type": "markdown",
   "metadata": {},
   "source": [
    "### Mejoras sugeridas:\n",
    "Modularidad y Eficiencia: Los códigos están estructurados de manera modular y utilizan enfoques eficientes para resolver los problemas propuestos.  \n",
    "Creatividad: Se utilizan expresiones regulares y otras técnicas creativas para identificar y contar emojis y menciones de usuarios de manera eficiente.  \n",
    "Explicaciones claras: Se proporcionan explicaciones detalladas en bloques markdown para cada función, lo que facilita su comprensión y mantenimiento.\n",
    "\n",
    "### Supuestos:\n",
    "Se asume que el archivo JSON proporcionado contiene tweets con el formato esperado, incluyendo campos como 'content' para el contenido del tweet y 'user' para la información del usuario.  \n",
    "Se asume que el archivo JSON está codificado en UTF-8 y se puede leer correctamente utilizando esta codificación."
   ]
  },
  {
   "cell_type": "code",
   "execution_count": 1,
   "metadata": {},
   "outputs": [],
   "source": [
    "from q1_memory import q1_memory\n",
    "from q2_memory import q2_memory\n",
    "from q3_memory import q3_memory\n",
    "from q1_time import q1_time\n",
    "from q2_time import q2_time\n",
    "from q3_time import q3_time\n",
    "file_path = \"C:/farmers-protest-tweets-2021-2-4.json\""
   ]
  },
  {
   "cell_type": "markdown",
   "metadata": {},
   "source": [
    "#### q1_memory.py\n",
    "\n",
    "Esta función encuentra las top 10 fechas donde hay más tweets y los usuarios con más publicaciones por cada una de esas fechas. Para lograrlo, utiliza un enfoque eficiente que utiliza un diccionario para almacenar el recuento de tweets por fecha y otro diccionario para almacenar el usuario con más publicaciones por fecha. Luego, devuelve una lista de tuplas que contienen la fecha y el usuario con más publicaciones para cada una de las top 10 fechas."
   ]
  },
  {
   "cell_type": "code",
   "execution_count": 3,
   "metadata": {},
   "outputs": [
    {
     "name": "stdout",
     "output_type": "stream",
     "text": [
      "Filename: c:\\Users\\Javoo\\Desktop\\challenge_DE\\src\\q1_memory.py\n",
      "\n",
      "Line #    Mem usage    Increment  Occurrences   Line Contents\n",
      "=============================================================\n",
      "     6     68.1 MiB     68.1 MiB           1   @profile\n",
      "     7                                         def q1_memory(file_path):\n",
      "     8                                             # Crear un diccionario para almacenar el recuento de tweets por fecha\n",
      "     9     68.1 MiB      0.0 MiB           1       tweet_counts_by_date = defaultdict(int)\n",
      "    10                                         \n",
      "    11                                             # Crear un diccionario para almacenar el usuario con más publicaciones por fecha\n",
      "    12     71.7 MiB      0.0 MiB          27       top_users_by_date = defaultdict(lambda: defaultdict(int))\n",
      "    13                                         \n",
      "    14                                             # Leer el archivo JSON línea por línea\n",
      "    15     72.4 MiB      0.0 MiB           2       with open(file_path, 'r', encoding='utf-8') as file:\n",
      "    16     72.4 MiB      0.9 MiB      117408           for line in file:\n",
      "    17     72.4 MiB      2.7 MiB      117407               tweet = json.loads(line)\n",
      "    18     72.4 MiB      0.0 MiB      117407               tweet_date = datetime.strptime(tweet['date'], '%Y-%m-%dT%H:%M:%S+00:00').date()\n",
      "    19     72.4 MiB      0.0 MiB      117407               tweet_counts_by_date[tweet_date] += 1\n",
      "    20                                                     # Actualizar el usuario con más publicaciones para esta fecha si es necesario\n",
      "    21     72.4 MiB      0.0 MiB      117407               username = tweet['user']['username']\n",
      "    22     72.4 MiB      0.6 MiB      117407               top_users_by_date[tweet_date][username] += 1\n",
      "    23                                         \n",
      "    24                                             # Obtener las top 10 fechas y los usuarios con más publicaciones para cada una de ellas\n",
      "    25     72.4 MiB      0.0 MiB           1       top_10_dates_with_users = []\n",
      "    26     72.4 MiB      0.0 MiB          37       for date, _ in sorted(tweet_counts_by_date.items(), key=lambda x: x[1], reverse=True)[:10]:\n",
      "    27     72.4 MiB      0.0 MiB          10           top_users = top_users_by_date[date]\n",
      "    28     72.4 MiB      0.0 MiB          10           top_user = max(top_users, key=top_users.get)\n",
      "    29     72.4 MiB      0.0 MiB          10           top_10_dates_with_users.append((date, top_user))\n",
      "    30                                         \n",
      "    31     72.4 MiB      0.0 MiB           1       return top_10_dates_with_users\n",
      "\n",
      "\n"
     ]
    },
    {
     "data": {
      "text/plain": [
       "[(datetime.date(2021, 2, 12), 'RanbirS00614606'),\n",
       " (datetime.date(2021, 2, 13), 'MaanDee08215437'),\n",
       " (datetime.date(2021, 2, 17), 'RaaJVinderkaur'),\n",
       " (datetime.date(2021, 2, 16), 'jot__b'),\n",
       " (datetime.date(2021, 2, 14), 'rebelpacifist'),\n",
       " (datetime.date(2021, 2, 18), 'neetuanjle_nitu'),\n",
       " (datetime.date(2021, 2, 15), 'jot__b'),\n",
       " (datetime.date(2021, 2, 20), 'MangalJ23056160'),\n",
       " (datetime.date(2021, 2, 23), 'Surrypuria'),\n",
       " (datetime.date(2021, 2, 19), 'Preetm91')]"
      ]
     },
     "execution_count": 3,
     "metadata": {},
     "output_type": "execute_result"
    }
   ],
   "source": [
    "q1_memory(file_path)"
   ]
  },
  {
   "cell_type": "markdown",
   "metadata": {},
   "source": [
    "#### q1_time.py\n",
    "\n",
    "Esta función realiza la misma tarea que `q1_memory.py`, pero sin medir el consumo de memoria en la ejecución. Utiliza el mismo enfoque eficiente para encontrar las top 10 fechas donde hay más tweets y los usuarios con más publicaciones para cada una de esas fechas."
   ]
  },
  {
   "cell_type": "code",
   "execution_count": 4,
   "metadata": {},
   "outputs": [
    {
     "data": {
      "text/plain": [
       "[(datetime.date(2021, 2, 12), 'RanbirS00614606'),\n",
       " (datetime.date(2021, 2, 13), 'MaanDee08215437'),\n",
       " (datetime.date(2021, 2, 17), 'RaaJVinderkaur'),\n",
       " (datetime.date(2021, 2, 16), 'jot__b'),\n",
       " (datetime.date(2021, 2, 14), 'rebelpacifist'),\n",
       " (datetime.date(2021, 2, 18), 'neetuanjle_nitu'),\n",
       " (datetime.date(2021, 2, 15), 'jot__b'),\n",
       " (datetime.date(2021, 2, 20), 'MangalJ23056160'),\n",
       " (datetime.date(2021, 2, 23), 'Surrypuria'),\n",
       " (datetime.date(2021, 2, 19), 'Preetm91')]"
      ]
     },
     "execution_count": 4,
     "metadata": {},
     "output_type": "execute_result"
    }
   ],
   "source": [
    "q1_time(file_path)"
   ]
  },
  {
   "cell_type": "markdown",
   "metadata": {},
   "source": [
    "#### q2_memory.py\n",
    "\n",
    "Esta función encuentra los top 10 emojis más utilizados con su respectivo conteo en los tweets. Utiliza expresiones regulares para encontrar secuencias de escape Unicode de 4 dígitos (emojis) en cada tweet y un contador para contar la cantidad de cada emoji. Luego, devuelve una lista de tuplas que contienen el emoji y su respectivo conteo."
   ]
  },
  {
   "cell_type": "code",
   "execution_count": 3,
   "metadata": {},
   "outputs": [
    {
     "name": "stdout",
     "output_type": "stream",
     "text": [
      "Filename: c:\\Users\\Javoo\\Desktop\\challenge_DE\\src\\q2_memory.py\n",
      "\n",
      "Line #    Mem usage    Increment  Occurrences   Line Contents\n",
      "=============================================================\n",
      "     7     67.9 MiB     67.9 MiB           1   def q2_memory(file_path: str) -> List[Tuple[str, int]]:\n",
      "     8                                             \"\"\"\n",
      "     9     67.9 MiB      0.0 MiB           1       Función para encontrar los top 10 emojis más utilizados con su respectivo conteo en los tweets.\n",
      "    10     67.9 MiB      0.0 MiB           1       \n",
      "    11     68.7 MiB      0.0 MiB           2       Args:\n",
      "    12     68.7 MiB    -23.3 MiB      117408       file_path (str): Ruta del archivo JSON que contiene los tweets.\n",
      "    13     68.7 MiB     -3.0 MiB      117407       \n",
      "    14     68.7 MiB   -388.0 MiB    10710078       Returns:\n",
      "    15     68.7 MiB  -2343.0 MiB    10475264       List[Tuple[str, int]]: Lista de tuplas que contienen el emoji y su respectivo conteo.\n",
      "    16     68.7 MiB  -2340.1 MiB    10357857       \"\"\"\n",
      "    17     68.7 MiB  -2340.1 MiB    10357857       # Inicializar un contador para almacenar la cantidad de emojis\n",
      "    18     68.7 MiB      0.0 MiB        6769       emoji_counts = Counter()\n",
      "    19     68.7 MiB      0.0 MiB          13   \n",
      "    20                                             # Leer el archivo JSON línea por línea\n",
      "    21                                             with open(file_path, 'r', encoding='utf-8') as file:\n",
      "    22                                                 for line in file:\n",
      "    23                                                     # Encontrar secuencias de escape Unicode de 4 dígitos (emojis)\n",
      "    24                                                     emojis = re.findall(r'\\\\u[\\da-fA-F]{4}', line)\n",
      "    25                                                     # Decodificar las secuencias de escape Unicode y contar los emojis\n",
      "    26                                                     emojis = [codecs.decode(emoji.encode(), 'unicode_escape') for emoji in emojis]\n",
      "    27                                                     emoji_counts.update(emojis)\n",
      "    28                                         \n",
      "    29                                             # Obtener los top 10 emojis más utilizados\n",
      "    30                                             top_10_emojis = emoji_counts.most_common(10)\n",
      "    31                                         \n",
      "    32                                             return top_10_emojis\n",
      "\n",
      "\n"
     ]
    },
    {
     "data": {
      "text/plain": [
       "[('ा', 526088),\n",
       " ('क', 374647),\n",
       " ('ਾ', 351023),\n",
       " ('र', 335133),\n",
       " ('े', 303019),\n",
       " ('न', 261499),\n",
       " ('ी', 230222),\n",
       " ('ह', 224912),\n",
       " ('स', 215447),\n",
       " ('ि', 208327)]"
      ]
     },
     "execution_count": 3,
     "metadata": {},
     "output_type": "execute_result"
    }
   ],
   "source": [
    "q2_memory(file_path)"
   ]
  },
  {
   "cell_type": "markdown",
   "metadata": {},
   "source": [
    "#### q2_time.py\n",
    "\n",
    "Al igual que `q2_memory.py`, esta función encuentra los top 10 emojis más utilizados en los tweets, pero sin medir el consumo de memoria en la ejecución. Utiliza un enfoque eficiente que cuenta los emojis en cada tweet y luego encuentra los más comunes."
   ]
  },
  {
   "cell_type": "code",
   "execution_count": 2,
   "metadata": {},
   "outputs": [
    {
     "data": {
      "text/plain": [
       "[('ा', 526088),\n",
       " ('क', 374647),\n",
       " ('ਾ', 351023),\n",
       " ('र', 335133),\n",
       " ('े', 303019),\n",
       " ('न', 261499),\n",
       " ('ी', 230222),\n",
       " ('ह', 224912),\n",
       " ('स', 215447),\n",
       " ('ि', 208327)]"
      ]
     },
     "execution_count": 2,
     "metadata": {},
     "output_type": "execute_result"
    }
   ],
   "source": [
    "q2_time(file_path)"
   ]
  },
  {
   "cell_type": "markdown",
   "metadata": {},
   "source": [
    "#### q3_memory.py\n",
    "\n",
    "Esta función encuentra el top 10 histórico de usuarios más influyentes en función del conteo de las menciones (@) que registra cada uno de ellos en los tweets. Utiliza un contador para almacenar la cantidad de menciones por usuario y recorre el archivo JSON línea por línea para actualizar el contador. Luego, devuelve una lista de tuplas que contienen el nombre de usuario y su respectivo conteo de menciones."
   ]
  },
  {
   "cell_type": "code",
   "execution_count": 2,
   "metadata": {},
   "outputs": [
    {
     "name": "stdout",
     "output_type": "stream",
     "text": [
      "Filename: c:\\Users\\Javoo\\Desktop\\challenge_DE\\src\\q3_memory.py\n",
      "\n",
      "Line #    Mem usage    Increment  Occurrences   Line Contents\n",
      "=============================================================\n",
      "     5     66.3 MiB     66.3 MiB           1   @profile\n",
      "     6                                         def q3_memory(file_path):\n",
      "     7                                             # Crear un contador para almacenar la cantidad de menciones por usuario\n",
      "     8     66.3 MiB      0.0 MiB           1       mention_counter = Counter()\n",
      "     9                                         \n",
      "    10                                             # Leer el archivo JSON línea por línea\n",
      "    11     69.2 MiB      0.0 MiB           2       with open(file_path, 'r', encoding='utf-8') as file:\n",
      "    12     69.2 MiB      1.1 MiB      117408           for line in file:\n",
      "    13     69.2 MiB      0.9 MiB      117407               tweet = json.loads(line)\n",
      "    14     69.2 MiB      0.0 MiB      117407               content = tweet['content']\n",
      "    15     69.2 MiB      0.2 MiB     2354650               mentions = [word[1:] for word in content.split() if word.startswith('@')]\n",
      "    16     69.2 MiB      0.7 MiB      117407               mention_counter.update(mentions)\n",
      "    17                                         \n",
      "    18                                             # Obtener los top 10 usuarios más mencionados\n",
      "    19     69.2 MiB      0.0 MiB           1       top_10_users = mention_counter.most_common(10)\n",
      "    20                                         \n",
      "    21     69.2 MiB      0.0 MiB           1       return top_10_users\n",
      "\n",
      "\n"
     ]
    },
    {
     "data": {
      "text/plain": [
       "[('narendramodi', 2201),\n",
       " ('Kisanektamorcha', 1822),\n",
       " ('RakeshTikaitBKU', 1599),\n",
       " ('PMOIndia', 1387),\n",
       " ('RahulGandhi', 1093),\n",
       " ('RaviSinghKA', 1002),\n",
       " ('GretaThunberg', 999),\n",
       " ('UNHumanRights', 956),\n",
       " ('rihanna', 944),\n",
       " ('meenaharris', 911)]"
      ]
     },
     "execution_count": 2,
     "metadata": {},
     "output_type": "execute_result"
    }
   ],
   "source": [
    "q3_memory(file_path)"
   ]
  },
  {
   "cell_type": "markdown",
   "metadata": {},
   "source": [
    "#### q3_time.py\n",
    "\n",
    "Similar a `q3_memory.py`, esta función encuentra el top 10 histórico de usuarios más influyentes basados en el conteo de menciones (@) en los tweets. No mide el consumo de memoria en la ejecución. Utiliza un enfoque eficiente que cuenta las menciones en cada tweet y luego encuentra los usuarios más mencionados."
   ]
  },
  {
   "cell_type": "code",
   "execution_count": 7,
   "metadata": {},
   "outputs": [
    {
     "data": {
      "text/plain": [
       "[('narendramodi', 2201),\n",
       " ('Kisanektamorcha', 1822),\n",
       " ('RakeshTikaitBKU', 1599),\n",
       " ('PMOIndia', 1387),\n",
       " ('RahulGandhi', 1093),\n",
       " ('RaviSinghKA', 1002),\n",
       " ('GretaThunberg', 999),\n",
       " ('UNHumanRights', 956),\n",
       " ('rihanna', 944),\n",
       " ('meenaharris', 911)]"
      ]
     },
     "execution_count": 7,
     "metadata": {},
     "output_type": "execute_result"
    }
   ],
   "source": [
    "q3_time(file_path)"
   ]
  }
 ],
 "metadata": {
  "kernelspec": {
   "display_name": "Python 3",
   "language": "python",
   "name": "python3"
  },
  "language_info": {
   "codemirror_mode": {
    "name": "ipython",
    "version": 3
   },
   "file_extension": ".py",
   "mimetype": "text/x-python",
   "name": "python",
   "nbconvert_exporter": "python",
   "pygments_lexer": "ipython3",
   "version": "3.11.5"
  },
  "orig_nbformat": 4
 },
 "nbformat": 4,
 "nbformat_minor": 2
}
