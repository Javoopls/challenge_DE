{
 "cells": [
  {
   "cell_type": "markdown",
   "metadata": {},
   "source": [
    "En este archivo puedes escribir lo que estimes conveniente. Te recomendamos detallar tu solución y todas las suposiciones que estás considerando. Aquí puedes ejecutar las funciones que definiste en los otros archivos de la carpeta src, medir el tiempo, memoria, etc."
   ]
  },
  {
   "cell_type": "code",
   "execution_count": 1,
   "metadata": {},
   "outputs": [],
   "source": [
    "from q1_memory import q1_memory\n",
    "from q2_memory import q2_memory\n",
    "from q3_memory import q3_memory\n",
    "from q2_time import q2_time\n",
    "from q3_time import q3_time\n",
    "from q1_time import q1_time\n",
    "file_path = \"C:/farmers-protest-tweets-2021-2-4.json\""
   ]
  },
  {
   "cell_type": "code",
   "execution_count": 11,
   "metadata": {},
   "outputs": [
    {
     "name": "stdout",
     "output_type": "stream",
     "text": [
      "Filename: c:\\Users\\Javoo\\Desktop\\challenge_DE\\src\\q1_memory.py\n",
      "\n",
      "Line #    Mem usage    Increment  Occurrences   Line Contents\n",
      "=============================================================\n",
      "     6     69.0 MiB     69.0 MiB           1   @profile\n",
      "     7                                         def q1_memory(file_path):\n",
      "     8                                             # Crear un diccionario para almacenar el recuento de tweets por fecha\n",
      "     9     69.0 MiB      0.0 MiB           1       tweet_counts_by_date = defaultdict(int)\n",
      "    10                                         \n",
      "    11                                             # Crear un diccionario para almacenar el usuario con más publicaciones por fecha\n",
      "    12     72.1 MiB      0.0 MiB          27       top_users_by_date = defaultdict(lambda: defaultdict(int))\n",
      "    13                                         \n",
      "    14                                             # Leer el archivo JSON línea por línea\n",
      "    15     72.7 MiB      0.0 MiB           2       with open(file_path, 'r', encoding='utf-8') as file:\n",
      "    16     72.7 MiB      0.6 MiB      117408           for line in file:\n",
      "    17     72.7 MiB      2.9 MiB      117407               tweet = json.loads(line)\n",
      "    18     72.7 MiB      0.0 MiB      117407               tweet_date = datetime.strptime(tweet['date'], '%Y-%m-%dT%H:%M:%S+00:00').date()\n",
      "    19     72.7 MiB      0.0 MiB      117407               tweet_counts_by_date[tweet_date] += 1\n",
      "    20                                                     # Actualizar el usuario con más publicaciones para esta fecha si es necesario\n",
      "    21     72.7 MiB      0.0 MiB      117407               username = tweet['user']['username']\n",
      "    22     72.7 MiB      0.3 MiB      117407               top_users_by_date[tweet_date][username] += 1\n",
      "    23                                         \n",
      "    24                                             # Obtener las top 10 fechas y los usuarios con más publicaciones para cada una de ellas\n",
      "    25     72.7 MiB      0.0 MiB           1       top_10_dates_with_users = []\n",
      "    26     72.7 MiB      0.0 MiB          37       for date, _ in sorted(tweet_counts_by_date.items(), key=lambda x: x[1], reverse=True)[:10]:\n",
      "    27     72.7 MiB      0.0 MiB          10           top_users = top_users_by_date[date]\n",
      "    28     72.7 MiB      0.0 MiB          10           top_user = max(top_users, key=top_users.get)\n",
      "    29     72.7 MiB      0.0 MiB          10           top_10_dates_with_users.append((date, top_user))\n",
      "    30                                         \n",
      "    31     72.7 MiB      0.0 MiB           1       return top_10_dates_with_users\n",
      "\n",
      "\n"
     ]
    },
    {
     "data": {
      "text/plain": [
       "[(datetime.date(2021, 2, 12), 'RanbirS00614606'),\n",
       " (datetime.date(2021, 2, 13), 'MaanDee08215437'),\n",
       " (datetime.date(2021, 2, 17), 'RaaJVinderkaur'),\n",
       " (datetime.date(2021, 2, 16), 'jot__b'),\n",
       " (datetime.date(2021, 2, 14), 'rebelpacifist'),\n",
       " (datetime.date(2021, 2, 18), 'neetuanjle_nitu'),\n",
       " (datetime.date(2021, 2, 15), 'jot__b'),\n",
       " (datetime.date(2021, 2, 20), 'MangalJ23056160'),\n",
       " (datetime.date(2021, 2, 23), 'Surrypuria'),\n",
       " (datetime.date(2021, 2, 19), 'Preetm91')]"
      ]
     },
     "execution_count": 11,
     "metadata": {},
     "output_type": "execute_result"
    }
   ],
   "source": [
    "q1_memory(file_path)"
   ]
  },
  {
   "cell_type": "code",
   "execution_count": null,
   "metadata": {},
   "outputs": [],
   "source": [
    "q1_time(file_path)"
   ]
  },
  {
   "cell_type": "code",
   "execution_count": 3,
   "metadata": {},
   "outputs": [
    {
     "data": {
      "text/plain": [
       "[('ा', 526088),\n",
       " ('क', 374647),\n",
       " ('ਾ', 351023),\n",
       " ('र', 335133),\n",
       " ('े', 303019),\n",
       " ('न', 261499),\n",
       " ('ी', 230222),\n",
       " ('ह', 224912),\n",
       " ('स', 215447),\n",
       " ('ि', 208327)]"
      ]
     },
     "execution_count": 3,
     "metadata": {},
     "output_type": "execute_result"
    }
   ],
   "source": [
    "q2_memory(file_path)"
   ]
  },
  {
   "cell_type": "code",
   "execution_count": 5,
   "metadata": {},
   "outputs": [
    {
     "data": {
      "text/plain": [
       "[('ा', 526088),\n",
       " ('क', 374647),\n",
       " ('ਾ', 351023),\n",
       " ('र', 335133),\n",
       " ('े', 303019),\n",
       " ('न', 261499),\n",
       " ('ी', 230222),\n",
       " ('ह', 224912),\n",
       " ('स', 215447),\n",
       " ('ि', 208327)]"
      ]
     },
     "execution_count": 5,
     "metadata": {},
     "output_type": "execute_result"
    }
   ],
   "source": [
    "q2_time(file_path)"
   ]
  },
  {
   "cell_type": "code",
   "execution_count": 7,
   "metadata": {},
   "outputs": [
    {
     "data": {
      "text/plain": [
       "[('narendramodi', 2201),\n",
       " ('Kisanektamorcha', 1822),\n",
       " ('RakeshTikaitBKU', 1599),\n",
       " ('PMOIndia', 1387),\n",
       " ('RahulGandhi', 1093),\n",
       " ('RaviSinghKA', 1002),\n",
       " ('GretaThunberg', 999),\n",
       " ('UNHumanRights', 956),\n",
       " ('rihanna', 944),\n",
       " ('meenaharris', 911)]"
      ]
     },
     "execution_count": 7,
     "metadata": {},
     "output_type": "execute_result"
    }
   ],
   "source": [
    "q3_memory(file_path)"
   ]
  },
  {
   "cell_type": "code",
   "execution_count": 9,
   "metadata": {},
   "outputs": [
    {
     "data": {
      "text/plain": [
       "[('narendramodi', 2201),\n",
       " ('Kisanektamorcha', 1822),\n",
       " ('RakeshTikaitBKU', 1599),\n",
       " ('PMOIndia', 1387),\n",
       " ('RahulGandhi', 1093),\n",
       " ('RaviSinghKA', 1002),\n",
       " ('GretaThunberg', 999),\n",
       " ('UNHumanRights', 956),\n",
       " ('rihanna', 944),\n",
       " ('meenaharris', 911)]"
      ]
     },
     "execution_count": 9,
     "metadata": {},
     "output_type": "execute_result"
    }
   ],
   "source": [
    "q3_time(file_path)"
   ]
  }
 ],
 "metadata": {
  "kernelspec": {
   "display_name": "Python 3",
   "language": "python",
   "name": "python3"
  },
  "language_info": {
   "codemirror_mode": {
    "name": "ipython",
    "version": 3
   },
   "file_extension": ".py",
   "mimetype": "text/x-python",
   "name": "python",
   "nbconvert_exporter": "python",
   "pygments_lexer": "ipython3",
   "version": "3.11.5"
  },
  "orig_nbformat": 4
 },
 "nbformat": 4,
 "nbformat_minor": 2
}
